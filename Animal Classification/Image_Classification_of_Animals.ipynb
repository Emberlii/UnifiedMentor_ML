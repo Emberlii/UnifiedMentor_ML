{
 "cells": [
  {
   "cell_type": "markdown",
   "id": "f228f7d7",
   "metadata": {},
   "source": [
    "# Image Classification of Animals\n",
    "This notebook implements an image classification system for identifying animals using a pre-trained MobileNetV2 model."
   ]
  },
  {
   "cell_type": "code",
   "execution_count": null,
   "id": "a76d28e8",
   "metadata": {},
   "outputs": [],
   "source": [
    "\n",
    "# Import required libraries\n",
    "import tensorflow as tf\n",
    "from tensorflow.keras.preprocessing.image import ImageDataGenerator\n",
    "from tensorflow.keras.applications import MobileNetV2\n",
    "from tensorflow.keras.models import Sequential\n",
    "from tensorflow.keras.layers import Dense, Flatten, Dropout\n",
    "import matplotlib.pyplot as plt\n",
    "import numpy as np\n",
    "from tensorflow.keras.preprocessing import image\n"
   ]
  },
  {
   "cell_type": "code",
   "execution_count": 3,
   "id": "31d3a533",
   "metadata": {},
   "outputs": [
    {
     "name": "stdout",
     "output_type": "stream",
     "text": [
      "Found 1549 images belonging to 15 classes.\n",
      "Found 395 images belonging to 15 classes.\n"
     ]
    }
   ],
   "source": [
    "\n",
    "import os\n",
    "import shutil\n",
    "from sklearn.model_selection import train_test_split\n",
    "from tensorflow.keras.preprocessing.image import ImageDataGenerator\n",
    "\n",
    "# Define paths\n",
    "dataset_dir = 'dataset'\n",
    "train_dir = 'dataset_split/train'\n",
    "test_dir = 'dataset_split/test'\n",
    "\n",
    "# Create train and test directories if they don't exist\n",
    "os.makedirs(train_dir, exist_ok=True)\n",
    "os.makedirs(test_dir, exist_ok=True)\n",
    "\n",
    "# Get all class folders\n",
    "classes = [d for d in os.listdir(dataset_dir) if os.path.isdir(os.path.join(dataset_dir, d))]\n",
    "\n",
    "# Split data for each class\n",
    "for class_name in classes:\n",
    "    class_path = os.path.join(dataset_dir, class_name)\n",
    "    images = [f for f in os.listdir(class_path) if os.path.isfile(os.path.join(class_path, f))]\n",
    "    \n",
    "    # Split into train and test\n",
    "    train_images, test_images = train_test_split(images, test_size=0.2, random_state=42)\n",
    "    \n",
    "    # Create class subdirectories in train/test folders\n",
    "    os.makedirs(os.path.join(train_dir, class_name), exist_ok=True)\n",
    "    os.makedirs(os.path.join(test_dir, class_name), exist_ok=True)\n",
    "    \n",
    "    # Move images to train directory\n",
    "    for img in train_images:\n",
    "        shutil.copy(os.path.join(class_path, img), os.path.join(train_dir, class_name, img))\n",
    "    \n",
    "    # Move images to test directory\n",
    "    for img in test_images:\n",
    "        shutil.copy(os.path.join(class_path, img), os.path.join(test_dir, class_name, img))\n",
    "\n",
    "# Data Generators\n",
    "train_datagen = ImageDataGenerator(rescale=1.0/255)\n",
    "test_datagen = ImageDataGenerator(rescale=1.0/255)\n",
    "\n",
    "train_generator = train_datagen.flow_from_directory(\n",
    "    train_dir,\n",
    "    target_size=(224, 224),\n",
    "    batch_size=32,\n",
    "    class_mode='categorical'\n",
    ")\n",
    "\n",
    "test_generator = test_datagen.flow_from_directory(\n",
    "    test_dir,\n",
    "    target_size=(224, 224),\n",
    "    batch_size=32,\n",
    "    class_mode='categorical'\n",
    ")\n",
    "\n"
   ]
  },
  {
   "cell_type": "code",
   "execution_count": 4,
   "id": "ed493640",
   "metadata": {},
   "outputs": [
    {
     "name": "stdout",
     "output_type": "stream",
     "text": [
      "Downloading data from https://storage.googleapis.com/tensorflow/keras-applications/mobilenet_v2/mobilenet_v2_weights_tf_dim_ordering_tf_kernels_1.0_224_no_top.h5\n",
      "9406464/9406464 [==============================] - 2s 0us/step\n",
      "Model: \"sequential\"\n",
      "_________________________________________________________________\n",
      " Layer (type)                Output Shape              Param #   \n",
      "=================================================================\n",
      " mobilenetv2_1.00_224 (Funct  (None, 7, 7, 1280)       2257984   \n",
      " ional)                                                          \n",
      "                                                                 \n",
      " flatten (Flatten)           (None, 62720)             0         \n",
      "                                                                 \n",
      " dense (Dense)               (None, 256)               16056576  \n",
      "                                                                 \n",
      " dropout (Dropout)           (None, 256)               0         \n",
      "                                                                 \n",
      " dense_1 (Dense)             (None, 15)                3855      \n",
      "                                                                 \n",
      "=================================================================\n",
      "Total params: 18,318,415\n",
      "Trainable params: 16,060,431\n",
      "Non-trainable params: 2,257,984\n",
      "_________________________________________________________________\n"
     ]
    }
   ],
   "source": [
    "\n",
    "# Model definition using MobileNetV2\n",
    "base_model = MobileNetV2(input_shape=(224, 224, 3), include_top=False, weights='imagenet')\n",
    "base_model.trainable = False\n",
    "\n",
    "model = Sequential([\n",
    "    base_model,\n",
    "    Flatten(),\n",
    "    Dense(256, activation='relu'),\n",
    "    Dropout(0.5),\n",
    "    Dense(15, activation='softmax')  # 15 classes\n",
    "])\n",
    "\n",
    "model.compile(optimizer='adam', loss='categorical_crossentropy', metrics=['accuracy'])\n",
    "\n",
    "# Model summary\n",
    "model.summary()\n"
   ]
  },
  {
   "cell_type": "code",
   "execution_count": 6,
   "id": "6b275a08",
   "metadata": {},
   "outputs": [
    {
     "name": "stdout",
     "output_type": "stream",
     "text": [
      "Epoch 1/10\n",
      "49/49 [==============================] - 41s 801ms/step - loss: 3.4299 - accuracy: 0.4842 - val_loss: 0.7461 - val_accuracy: 0.7418\n",
      "Epoch 2/10\n",
      "49/49 [==============================] - 34s 698ms/step - loss: 1.0820 - accuracy: 0.6733 - val_loss: 0.6423 - val_accuracy: 0.8101\n",
      "Epoch 3/10\n",
      "49/49 [==============================] - 34s 699ms/step - loss: 0.9178 - accuracy: 0.7385 - val_loss: 0.5635 - val_accuracy: 0.8278\n",
      "Epoch 4/10\n",
      "49/49 [==============================] - 35s 711ms/step - loss: 0.8508 - accuracy: 0.7527 - val_loss: 0.4932 - val_accuracy: 0.8759\n",
      "Epoch 5/10\n",
      "49/49 [==============================] - 35s 707ms/step - loss: 0.6976 - accuracy: 0.8096 - val_loss: 0.4364 - val_accuracy: 0.8759\n",
      "Epoch 6/10\n",
      "49/49 [==============================] - 38s 772ms/step - loss: 0.6602 - accuracy: 0.7986 - val_loss: 0.5073 - val_accuracy: 0.8304\n",
      "Epoch 7/10\n",
      "49/49 [==============================] - 34s 703ms/step - loss: 0.6427 - accuracy: 0.8057 - val_loss: 0.4311 - val_accuracy: 0.8709\n",
      "Epoch 8/10\n",
      "49/49 [==============================] - 37s 767ms/step - loss: 0.6681 - accuracy: 0.8025 - val_loss: 0.4466 - val_accuracy: 0.8810\n",
      "Epoch 9/10\n",
      "49/49 [==============================] - 36s 743ms/step - loss: 0.5843 - accuracy: 0.8302 - val_loss: 0.5365 - val_accuracy: 0.8608\n",
      "Epoch 10/10\n",
      "49/49 [==============================] - 35s 709ms/step - loss: 0.5856 - accuracy: 0.8238 - val_loss: 0.4759 - val_accuracy: 0.8532\n"
     ]
    }
   ],
   "source": [
    "\n",
    "# Training the model\n",
    "history = model.fit(\n",
    "    train_generator,\n",
    "    validation_data=test_generator,\n",
    "    epochs=10\n",
    ")\n"
   ]
  },
  {
   "cell_type": "code",
   "execution_count": 7,
   "id": "3dffa58c",
   "metadata": {},
   "outputs": [
    {
     "data": {
      "image/png": "[encoded data removed]",
      "text/plain": [
       "<Figure size 640x480 with 1 Axes>"
      ]
     },
     "metadata": {},
     "output_type": "display_data"
    }
   ],
   "source": [
    "\n",
    "# Visualizing training results\n",
    "plt.plot(history.history['accuracy'], label='Train Accuracy')\n",
    "plt.plot(history.history['val_accuracy'], label='Validation Accuracy')\n",
    "plt.xlabel('Epochs')\n",
    "plt.ylabel('Accuracy')\n",
    "plt.legend()\n",
    "plt.show()\n"
   ]
  },
  {
   "cell_type": "code",
   "execution_count": 8,
   "id": "621acf35",
   "metadata": {},
   "outputs": [
    {
     "name": "stdout",
     "output_type": "stream",
     "text": [
      "Found 395 images belonging to 15 classes.\n",
      "13/13 [==============================] - 6s 422ms/step - loss: 0.4759 - accuracy: 0.8532\n",
      "Test Accuracy: 0.85\n"
     ]
    }
   ],
   "source": [
    "\n",
    "# Testing the model\n",
    "test_datagen = ImageDataGenerator(rescale=1.0/255)\n",
    "test_generator = test_datagen.flow_from_directory(\n",
    "    test_dir,\n",
    "    target_size=(224, 224),\n",
    "    batch_size=32,\n",
    "    class_mode='categorical'\n",
    ")\n",
    "\n",
    "test_loss, test_accuracy = model.evaluate(test_generator)\n",
    "print(f\"Test Accuracy: {test_accuracy:.2f}\")\n"
   ]
  },
  {
   "cell_type": "code",
   "execution_count": 9,
   "id": "f2d02172",
   "metadata": {},
   "outputs": [],
   "source": [
    "\n",
    "# Save the model\n",
    "model.save('animal_classifier.h5')\n"
   ]
  },
  {
   "cell_type": "code",
   "execution_count": 14,
   "id": "09b7a02e",
   "metadata": {},
   "outputs": [
    {
     "name": "stdout",
     "output_type": "stream",
     "text": [
      "1/1 [==============================] - 4s 4s/step\n",
      "Predicted Class: Horse\n"
     ]
    }
   ],
   "source": [
    "\n",
    "# Inference example\n",
    "model = tf.keras.models.load_model('animal_classifier.h5')\n",
    "\n",
    "img_path = 'dataset/Horse/Horse_1_2.jpg'\n",
    "img = image.load_img(img_path, target_size=(224, 224))\n",
    "img_array = image.img_to_array(img) / 255.0\n",
    "img_array = np.expand_dims(img_array, axis=0)\n",
    "\n",
    "prediction = model.predict(img_array)\n",
    "class_indices = {v: k for k, v in train_generator.class_indices.items()}\n",
    "print(f\"Predicted Class: {class_indices[np.argmax(prediction)]}\")\n"
   ]
  },
  {
   "cell_type": "markdown",
   "id": "a5284807",
   "metadata": {},
   "source": []
  }
 ],
 "metadata": {
  "kernelspec": {
   "display_name": "base",
   "language": "python",
   "name": "python3"
  },
  "language_info": {
   "codemirror_mode": {
    "name": "ipython",
    "version": 3
   },
   "file_extension": ".py",
   "mimetype": "text/x-python",
   "name": "python",
   "nbconvert_exporter": "python",
   "pygments_lexer": "ipython3",
   "version": "3.10.9"
  }
 },
 "nbformat": 4,
 "nbformat_minor": 5
}
